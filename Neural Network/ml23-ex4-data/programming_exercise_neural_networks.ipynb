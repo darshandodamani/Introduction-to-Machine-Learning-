{
 "cells": [
  {
   "cell_type": "code",
   "execution_count": 1,
   "metadata": {},
   "outputs": [],
   "source": [
    "import numpy as np\n",
    "import pandas as pd\n",
    "import matplotlib.pyplot as plt\n",
    "from typing import Tuple, List"
   ]
  },
  {
   "cell_type": "code",
   "execution_count": 3,
   "metadata": {},
   "outputs": [],
   "source": [
    "np.random.seed(42)\n",
    "GROUP = \"04\"  # TODO: write in your group number"
   ]
  },
  {
   "cell_type": "code",
   "execution_count": null,
   "metadata": {},
   "outputs": [],
   "source": [
    "# From last exercise sheet\n",
    "def load_feature_vectors(filename: str) -> np.array:\n",
    "    \"\"\"\n",
    "    Load the feature vectors from the dataset in the given file and return\n",
    "    them as a numpy array with shape (number-of-examples, number-of-features + 1).\n",
    "    \"\"\"\n",
    "    #features = pd.read_csv(filename, sep='\\t', usecols=[\"#id\", \"chars_count\"]).to_numpy()\n",
    "    features = pd.read_csv(filename, sep='\\t').to_numpy()\n",
    "    features[:, 0] = 1 # replace #id column with w0\n",
    "    return features.astype(float)"
   ]
  }
 ],
 "metadata": {
  "kernelspec": {
   "display_name": "Python 3",
   "language": "python",
   "name": "python3"
  },
  "language_info": {
   "codemirror_mode": {
    "name": "ipython",
    "version": 3
   },
   "file_extension": ".py",
   "mimetype": "text/x-python",
   "name": "python",
   "nbconvert_exporter": "python",
   "pygments_lexer": "ipython3",
   "version": "3.11.3"
  }
 },
 "nbformat": 4,
 "nbformat_minor": 2
}
