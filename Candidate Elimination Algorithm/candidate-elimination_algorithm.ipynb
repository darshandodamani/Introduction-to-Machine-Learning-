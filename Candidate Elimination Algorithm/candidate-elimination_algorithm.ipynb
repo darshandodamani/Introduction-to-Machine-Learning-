{
 "cells": [
  {
   "cell_type": "code",
   "execution_count": 7,
   "metadata": {},
   "outputs": [],
   "source": [
    "# import the packages\n",
    "import numpy as np\n",
    "import pandas as pd"
   ]
  },
  {
   "cell_type": "code",
   "execution_count": 8,
   "metadata": {},
   "outputs": [
    {
     "name": "stdout",
     "output_type": "stream",
     "text": [
      "    Size Color     Shape Class\n",
      "0    Big   Red    Circle    No\n",
      "1  Small   Red  Triangle    No\n",
      "2  Small   Red    Circle   Yes\n",
      "3   Blue  Blue    Circle    No\n",
      "4  Small  Blue    Circle   Yes\n"
     ]
    }
   ],
   "source": [
    "# load data from CSV file\n",
    "data=pd.DataFrame(data=pd.read_csv('example.csv'))\n",
    "print(data)"
   ]
  },
  {
   "cell_type": "code",
   "execution_count": 9,
   "metadata": {},
   "outputs": [
    {
     "name": "stdout",
     "output_type": "stream",
     "text": [
      "[['Big' 'Red' 'Circle']\n",
      " ['Small' 'Red' 'Triangle']\n",
      " ['Small' 'Red' 'Circle']\n",
      " ['Blue' 'Blue' 'Circle']\n",
      " ['Small' 'Blue' 'Circle']]\n"
     ]
    }
   ],
   "source": [
    "# Separating concept features from Target\n",
    "concepts = np.array(data.iloc[:,0:-1])\n",
    "print(concepts)"
   ]
  },
  {
   "cell_type": "code",
   "execution_count": 10,
   "metadata": {},
   "outputs": [
    {
     "name": "stdout",
     "output_type": "stream",
     "text": [
      "['No' 'No' 'Yes' 'No' 'Yes']\n"
     ]
    }
   ],
   "source": [
    "# Isolating target into a separate DataFrame\n",
    "# copying last column to target array\n",
    "target = np.array(data.iloc[:,-1])\n",
    "print(target)"
   ]
  },
  {
   "cell_type": "code",
   "execution_count": 11,
   "metadata": {},
   "outputs": [],
   "source": [
    "def learn(concepts, target):\n",
    "    \n",
    "    '''\n",
    "    learn() function implements the learning method of the Candidate elimination algorithm.\n",
    "    Arguments:\n",
    "        concepts - a data frame with all the features\n",
    "        target - a data frame with corresponding output values\n",
    "    '''\n",
    "\n",
    "    # Initialise S0 with the first instance from concepts\n",
    "    # .copy() makes sure a new list is created instead of just pointing to the same memory location\n",
    "    specific_h = concepts[0].copy()\n",
    "    print(\"\\nInitialization of specific_h and general_h\")\n",
    "    print(specific_h)\n",
    "\n",
    "    general_h = [[\"?\" for i in range(len(specific_h))] for i in range(len(specific_h))]\n",
    "    print(general_h)\n",
    "    # The learning iterations\n",
    "    for i, h in enumerate(concepts):\n",
    "\n",
    "        # Checking if the hypothesis has a positive target\n",
    "        if target[i] == \"Yes\":\n",
    "            for x in range(len(specific_h)):\n",
    "\n",
    "                # Change values in S & G only if values change\n",
    "                if h[x] != specific_h[x]:\n",
    "                    specific_h[x] = '?'\n",
    "                    general_h[x][x] = '?'\n",
    "\n",
    "        # Checking if the hypothesis has a positive target\n",
    "        if target[i] == \"No\":\n",
    "            for x in range(len(specific_h)):\n",
    "                # For negative hyposthesis change values only  in G\n",
    "                if h[x] != specific_h[x]:\n",
    "                    general_h[x][x] = specific_h[x]\n",
    "                else:\n",
    "                    general_h[x][x] = '?'\n",
    "\n",
    "        print(\"\\nSteps of Candidate Elimination Algorithm\",i+1)\n",
    "        print(specific_h)\n",
    "        print(general_h)\n",
    "    \n",
    "    # find indices where we have empty rows, meaning those that are unchanged\n",
    "    indices = [i for i, val in enumerate(general_h) if val == ['?', '?', '?']]\n",
    "    for i in indices:\n",
    "        # remove those rows from general_h\n",
    "        general_h.remove(['?', '?', '?'])\n",
    "    # Return final values\n",
    "    return specific_h, general_h"
   ]
  },
  {
   "cell_type": "code",
   "execution_count": 12,
   "metadata": {},
   "outputs": [
    {
     "name": "stdout",
     "output_type": "stream",
     "text": [
      "\n",
      "Initialization of specific_h and general_h\n",
      "['Big' 'Red' 'Circle']\n",
      "[['?', '?', '?'], ['?', '?', '?'], ['?', '?', '?']]\n",
      "\n",
      "Steps of Candidate Elimination Algorithm 1\n",
      "['Big' 'Red' 'Circle']\n",
      "[['?', '?', '?'], ['?', '?', '?'], ['?', '?', '?']]\n",
      "\n",
      "Steps of Candidate Elimination Algorithm 2\n",
      "['Big' 'Red' 'Circle']\n",
      "[['Big', '?', '?'], ['?', '?', '?'], ['?', '?', 'Circle']]\n",
      "\n",
      "Steps of Candidate Elimination Algorithm 3\n",
      "['?' 'Red' 'Circle']\n",
      "[['?', '?', '?'], ['?', '?', '?'], ['?', '?', 'Circle']]\n",
      "\n",
      "Steps of Candidate Elimination Algorithm 4\n",
      "['?' 'Red' 'Circle']\n",
      "[['?', '?', '?'], ['?', 'Red', '?'], ['?', '?', '?']]\n",
      "\n",
      "Steps of Candidate Elimination Algorithm 5\n",
      "['?' '?' 'Circle']\n",
      "[['?', '?', '?'], ['?', '?', '?'], ['?', '?', '?']]\n",
      "\n",
      "Final Specific_h:\n",
      "['?' '?' 'Circle']\n",
      "Final General_h:\n",
      "[]\n"
     ]
    }
   ],
   "source": [
    "# The Final Hypothesis For S and G\n",
    "s_final, g_final = learn(concepts, target)\n",
    "print(\"\\nFinal Specific_h:\", s_final, sep=\"\\n\")\n",
    "print(\"Final General_h:\", g_final, sep=\"\\n\")\n"
   ]
  },
  {
   "cell_type": "code",
   "execution_count": 13,
   "metadata": {},
   "outputs": [
    {
     "name": "stdout",
     "output_type": "stream",
     "text": [
      "\n",
      "Initialization of specific_h and general_h\n",
      "['Monday' 'no' 'easygoing' 'evening']\n",
      "[['?', '?', '?', '?'], ['?', '?', '?', '?'], ['?', '?', '?', '?'], ['?', '?', '?', '?']]\n",
      "\n",
      "Steps of Candidate Elimination Algorithm 1\n",
      "['Monday' 'no' 'easygoing' 'evening']\n",
      "[['?', '?', '?', '?'], ['?', '?', '?', '?'], ['?', '?', '?', '?'], ['?', '?', '?', '?']]\n",
      "\n",
      "Steps of Candidate Elimination Algorithm 2\n",
      "['Monday' 'no' 'easygoing' 'evening']\n",
      "[['?', '?', '?', '?'], ['?', '?', '?', '?'], ['?', '?', 'easygoing', '?'], ['?', '?', '?', '?']]\n",
      "\n",
      "Steps of Candidate Elimination Algorithm 3\n",
      "['Monday' 'no' 'easygoing' 'evening']\n",
      "[['Monday', '?', '?', '?'], ['?', 'no', '?', '?'], ['?', '?', '?', '?'], ['?', '?', '?', 'evening']]\n",
      "\n",
      "Steps of Candidate Elimination Algorithm 4\n",
      "['Monday' 'no' 'easygoing' '?']\n",
      "[['Monday', '?', '?', '?'], ['?', 'no', '?', '?'], ['?', '?', '?', '?'], ['?', '?', '?', '?']]\n",
      "\n",
      "Final Specific Hypothesis (specific_h):\n",
      "['Monday' 'no' 'easygoing' '?']\n",
      "\n",
      "Final General Hypothesis (general_h):\n",
      "[['Monday', '?', '?', '?'], ['?', 'no', '?', '?'], ['?', '?', '?', '?'], ['?', '?', '?', '?']]\n"
     ]
    }
   ],
   "source": [
    "import pandas as pd\n",
    "\n",
    "# Create a DataFrame with the given data\n",
    "data = pd.DataFrame({\n",
    "    \"Weekday\": [\"Monday\", \"Monday\", \"Saturday\", \"Monday\"],\n",
    "    \"Mother-in-the-Car\": [\"no\", \"no\", \"yes\", \"no\"],\n",
    "    \"Mood\": [\"easygoing\", \"annoyed\", \"easygoing\", \"easygoing\"],\n",
    "    \"Time of day\": [\"evening\", \"evening\", \"lunchtime\", \"morning\"],\n",
    "    \"run-a-red-light\": [\"Yes\", \"No\", \"No\", \"Yes\"]\n",
    "})\n",
    "\n",
    "# Separate the concepts (attributes) and target values\n",
    "concepts = data.drop(\"run-a-red-light\", axis=1)\n",
    "target = data[\"run-a-red-light\"]\n",
    "\n",
    "# Apply the learn function to get specific_h and general_h\n",
    "specific_h, general_h = learn(concepts.values, target.values)\n",
    "\n",
    "# Print the final specific_h and general_h\n",
    "print(\"\\nFinal Specific Hypothesis (specific_h):\")\n",
    "print(specific_h)\n",
    "print(\"\\nFinal General Hypothesis (general_h):\")\n",
    "print(general_h)\n"
   ]
  },
  {
   "cell_type": "code",
   "execution_count": 14,
   "metadata": {},
   "outputs": [
    {
     "name": "stdout",
     "output_type": "stream",
     "text": [
      "\n",
      "Initialization of specific_h and general_h\n",
      "['Monday' 'no' 'easygoing' 'evening']\n",
      "[['?', '?', '?', '?'], ['?', '?', '?', '?'], ['?', '?', '?', '?'], ['?', '?', '?', '?']]\n",
      "\n",
      "Steps of Candidate Elimination Algorithm 1\n",
      "['Monday' 'no' 'easygoing' 'evening']\n",
      "[['?', '?', '?', '?'], ['?', '?', '?', '?'], ['?', '?', '?', '?'], ['?', '?', '?', '?']]\n",
      "\n",
      "Steps of Candidate Elimination Algorithm 2\n",
      "['Monday' 'no' 'easygoing' 'evening']\n",
      "[['?', '?', '?', '?'], ['?', '?', '?', '?'], ['?', '?', 'easygoing', '?'], ['?', '?', '?', '?']]\n",
      "\n",
      "Steps of Candidate Elimination Algorithm 3\n",
      "['Monday' 'no' 'easygoing' 'evening']\n",
      "[['Monday', '?', '?', '?'], ['?', 'no', '?', '?'], ['?', '?', '?', '?'], ['?', '?', '?', 'evening']]\n",
      "\n",
      "Steps of Candidate Elimination Algorithm 4\n",
      "['Monday' 'no' 'easygoing' '?']\n",
      "[['Monday', '?', '?', '?'], ['?', 'no', '?', '?'], ['?', '?', '?', '?'], ['?', '?', '?', '?']]\n",
      "\n",
      "Version Space (HD):\n",
      "['?' 'no' 'easygoing' '?']\n",
      "['?', '?', '?', '?']\n",
      "['Monday' '?' 'easygoing' '?']\n",
      "['?', '?', '?', '?']\n",
      "['Monday' 'no' '?' '?']\n"
     ]
    }
   ],
   "source": [
    "import pandas as pd\n",
    "from itertools import product\n",
    "\n",
    "# Create a DataFrame with the given data\n",
    "data = pd.DataFrame({\n",
    "    \"Weekday\": [\"Monday\", \"Monday\", \"Saturday\", \"Monday\"],\n",
    "    \"Mother-in-the-Car\": [\"no\", \"no\", \"yes\", \"no\"],\n",
    "    \"Mood\": [\"easygoing\", \"annoyed\", \"easygoing\", \"easygoing\"],\n",
    "    \"Time of day\": [\"evening\", \"evening\", \"lunchtime\", \"morning\"],\n",
    "    \"run-a-red-light\": [\"Yes\", \"No\", \"No\", \"Yes\"]\n",
    "})\n",
    "\n",
    "# Separate the concepts (attributes) and target values\n",
    "concepts = data.drop(\"run-a-red-light\", axis=1)\n",
    "target = data[\"run-a-red-light\"]\n",
    "\n",
    "# Apply the learn function to get specific_h and general_h\n",
    "specific_h, general_h = learn(concepts.values, target.values)\n",
    "\n",
    "# Initialize a list to store the version space\n",
    "version_space = []\n",
    "\n",
    "# Generate all possible combinations between specific and general hypotheses\n",
    "for i in range(len(specific_h)):\n",
    "    if specific_h[i] != \"?\":\n",
    "        version_space.append(specific_h.copy())\n",
    "        version_space[-1][i] = \"?\"\n",
    "    for j in range(len(general_h)):\n",
    "        if general_h[j][i] != \"?\":\n",
    "            version_space.append(general_h[j].copy())\n",
    "            version_space[-1][i] = \"?\"\n",
    "\n",
    "# Print the version space\n",
    "print(\"\\nVersion Space (HD):\")\n",
    "for hypothesis in version_space:\n",
    "    print(hypothesis)\n"
   ]
  }
 ],
 "metadata": {
  "kernelspec": {
   "display_name": "Python 3",
   "language": "python",
   "name": "python3"
  },
  "language_info": {
   "codemirror_mode": {
    "name": "ipython",
    "version": 3
   },
   "file_extension": ".py",
   "mimetype": "text/x-python",
   "name": "python",
   "nbconvert_exporter": "python",
   "pygments_lexer": "ipython3",
   "version": "3.11.3"
  }
 },
 "nbformat": 4,
 "nbformat_minor": 2
}
